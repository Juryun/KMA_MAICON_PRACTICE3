{
  "nbformat": 4,
  "nbformat_minor": 0,
  "metadata": {
    "colab": {
      "provenance": []
    },
    "kernelspec": {
      "name": "python3",
      "display_name": "Python 3"
    },
    "language_info": {
      "name": "python"
    }
  },
  "cells": [
    {
      "cell_type": "code",
      "execution_count": null,
      "metadata": {
        "id": "tGYAztkLffUO"
      },
      "outputs": [],
      "source": [
        "import pandas as pd\n",
        "import numpy as np\n",
        "import matplotlib.pyplot as plt\n",
        "import sys\n",
        "\n",
        "def load_csv(path):\n",
        "    '''pandas를 이용하여 데이터를 DataFrame의 형태로 불러와 반환하는 load_csv 함수를 작성합니다.'''\n",
        "    data = pd.read_csv(path)\n",
        "    return data\n",
        "\n",
        "def main():\n",
        "\n",
        "    # 데이터 주소\n",
        "    TRAIN_PATH = 'train.csv'\n",
        "    TEST_PATH = 'test.csv'\n",
        "\n",
        "    # load_csv 함수를 사용하여 데이터를 불러와 저장합니다.\n",
        "    train = load_csv(TRAIN_PATH)\n",
        "    test = load_csv(TEST_PATH)\n",
        "\n",
        "    #학습 데이터 분할\n",
        "    x_train = train.iloc[:, :-1].values\n",
        "    y_train = train['price']\n",
        "\n",
        "    x_test = test.iloc[:,:].values\n",
        "\n",
        "    model = None\n",
        "    None\n",
        "\n",
        "    pred = None\n",
        "\n",
        "    test[\"price\"] = pred\n",
        "    return test\n",
        "\n",
        "main()"
      ]
    }
  ]
}