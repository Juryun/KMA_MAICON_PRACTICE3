{
  "nbformat": 4,
  "nbformat_minor": 0,
  "metadata": {
    "colab": {
      "provenance": []
    },
    "kernelspec": {
      "name": "python3",
      "display_name": "Python 3"
    },
    "language_info": {
      "name": "python"
    }
  },
  "cells": [
    {
      "cell_type": "code",
      "execution_count": null,
      "metadata": {
        "id": "tGYAztkLffUO"
      },
      "outputs": [],
      "source": [
        "import pandas as pd\n",
        "import numpy as np\n",
        "import matplotlib.pyplot as plt\n",
        "from sklearn.model_selection import train_test_split\n",
        "from sklearn.preprocessing import LabelEncoder\n",
        "\n",
        "# 데이터 주소\n",
        "TRAIN_PATH = \"data/train.csv\"\n",
        "TEST_PATH = \"data/test.csv\"\n",
        "SUBMISSION_PATH = \"data/sample_submission.csv\"\n",
        "\n",
        "\n",
        "def load_csv(path) -> pd.DataFrame:\n",
        "    \"\"\"pandas를 이용하여 데이터를 DataFrame의 형태로 불러옵니다.\"\"\"\n",
        "\n",
        "\n",
        "    df = pd.read_csv(path)\n",
        "    return df\n",
        "\n",
        "\n",
        "def label_encoding(series: pd.Series) -> pd.Series:\n",
        "    \"\"\"범주형 데이터를 시리즈 형태로 받아 숫자형 데이터로 변환합니다.\"\"\"\n",
        "\n",
        "    series =\n",
        "\n",
        "    return series\n",
        "\n",
        "\n",
        "def divide_data(df: pd.DataFrame):\n",
        "    \"\"\"데이터프레임을 전달받아 학습용 데이터와 검증용 데이터로 나눠 반환합니다.\"\"\"\n",
        "\n",
        "    X_train, X_valid, y_train, y_valid = None\n",
        "    return X_train, X_valid, y_train, y_valid\n",
        "\n",
        "\n",
        "def main():\n",
        "    # 1. 데이터 불러오기\n",
        "    train = load_csv(TRAIN_PATH)\n",
        "    test = load_csv(TEST_PATH)\n",
        "    submission = load_csv(SUBMISSION_PATH)\n",
        "\n",
        "    # 2. 데이터 변환하기\n",
        "    print(train.head(10))\n",
        "    for col in [\"cut\", \"color\", \"clarity\"]:\n",
        "        train[col] = label_encoding(train[col])\n",
        "    print(train.head(10))\n",
        "    # 3. 데이터 나누기\n",
        "    X_train, X_valid, y_train, y_valid = divide_data(train)\n",
        "\n",
        "\n",
        "if __name__ == \"__main__\":\n",
        "    main()"
      ]
    }
  ]
}