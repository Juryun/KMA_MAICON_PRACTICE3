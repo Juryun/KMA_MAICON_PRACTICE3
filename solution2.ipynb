{
  "nbformat": 4,
  "nbformat_minor": 0,
  "metadata": {
    "colab": {
      "provenance": []
    },
    "kernelspec": {
      "name": "python3",
      "display_name": "Python 3"
    },
    "language_info": {
      "name": "python"
    }
  },
  "cells": [
    {
      "cell_type": "code",
      "execution_count": null,
      "metadata": {
        "id": "tGYAztkLffUO"
      },
      "outputs": [],
      "source": [
        "import pandas as pd\n",
        "import numpy as np\n",
        "import matplotlib.pyplot as plt\n",
        "\n",
        "# 데이터 주소\n",
        "DATA_PATH = \"data/train.csv\"\n",
        "\n",
        "def load_csv(path) -> pd.DataFrame:\n",
        "    \"\"\"pandas를 이용하여 데이터를 DataFrame의 형태로 불러옵니다.\"\"\"\n",
        "\n",
        "    df = pd.read_csv(path)\n",
        "    return df\n",
        "\n",
        "\n",
        "def data_check(train: pd.DataFrame):\n",
        "    \"\"\"train의 price의 중위수를 반환하는 data_check 함수를 작성합니다.\"\"\"\n",
        "\n",
        "    ans =\n",
        "    return ans\n",
        "\n",
        "\n",
        "def make_scatter(df: pd.DataFrame):\n",
        "    \"\"\"matplotlib 라이브러리를 이용해 산점도를 그립니다.\"\"\"\n",
        "\n",
        "    plt.scatter(x,y)\n",
        "\n",
        "    show_plot(\"scatter\")\n",
        "\n",
        "    return x, y  # 수정금지\n",
        "\n",
        "\n",
        "def show_plot(fig_name: str):\n",
        "    \"\"\"그래프를 보여주는 함수입니다.\"\"\"\n",
        "\n",
        "    plt.savefig(fig_name + \".png\")\n",
        "    elice_utils.send_image(fig_name + \".png\")\n",
        "    plt.cla()\n",
        "\n",
        "\n",
        "def main():\n",
        "    # 1. 데이터 불러오기\n",
        "    df_train = load_csv(DATA_PATH)\n",
        "\n",
        "    # 2. 데이터 확인하기\n",
        "    ans = data_check(df_train)\n",
        "    print(\"중위수:\", ans)\n",
        "\n",
        "    # 3. 산점도 그리기\n",
        "    make_scatter(df_train)\n",
        "\n",
        "\n",
        "if __name__ == \"__main__\":\n",
        "    main()"
      ]
    }
  ]
}